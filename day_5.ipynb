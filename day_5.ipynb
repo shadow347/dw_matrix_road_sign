{
  "nbformat": 4,
  "nbformat_minor": 0,
  "metadata": {
    "colab": {
      "name": "day_5.ipynb",
      "provenance": [],
      "collapsed_sections": [],
      "mount_file_id": "1-V3zK5A8Yn2vrzaj96Mc6tH-k77225wa",
      "authorship_tag": "ABX9TyMDhAxCWUOh6EEQiWqSa5gt",
      "include_colab_link": true
    },
    "kernelspec": {
      "name": "python3",
      "display_name": "Python 3"
    },
    "accelerator": "GPU"
  },
  "cells": [
    {
      "cell_type": "markdown",
      "metadata": {
        "id": "view-in-github",
        "colab_type": "text"
      },
      "source": [
        "<a href=\"https://colab.research.google.com/github/shadow347/dw_matrix_road_sign/blob/master/day_5.ipynb\" target=\"_parent\"><img src=\"https://colab.research.google.com/assets/colab-badge.svg\" alt=\"Open In Colab\"/></a>"
      ]
    },
    {
      "cell_type": "code",
      "metadata": {
        "id": "UcVoDI2wB1ww",
        "colab_type": "code",
        "colab": {
          "base_uri": "https://localhost:8080/",
          "height": 181
        },
        "outputId": "0cad0078-ef5a-4bdd-f7f9-488b6eb405ba"
      },
      "source": [
        "!pip install hyperopt"
      ],
      "execution_count": 1,
      "outputs": [
        {
          "output_type": "stream",
          "text": [
            "Requirement already satisfied: hyperopt in /usr/local/lib/python3.6/dist-packages (0.1.2)\n",
            "Requirement already satisfied: future in /usr/local/lib/python3.6/dist-packages (from hyperopt) (0.16.0)\n",
            "Requirement already satisfied: numpy in /usr/local/lib/python3.6/dist-packages (from hyperopt) (1.18.2)\n",
            "Requirement already satisfied: tqdm in /usr/local/lib/python3.6/dist-packages (from hyperopt) (4.38.0)\n",
            "Requirement already satisfied: networkx in /usr/local/lib/python3.6/dist-packages (from hyperopt) (2.4)\n",
            "Requirement already satisfied: pymongo in /usr/local/lib/python3.6/dist-packages (from hyperopt) (3.10.1)\n",
            "Requirement already satisfied: six in /usr/local/lib/python3.6/dist-packages (from hyperopt) (1.12.0)\n",
            "Requirement already satisfied: scipy in /usr/local/lib/python3.6/dist-packages (from hyperopt) (1.4.1)\n",
            "Requirement already satisfied: decorator>=4.3.0 in /usr/local/lib/python3.6/dist-packages (from networkx->hyperopt) (4.4.2)\n"
          ],
          "name": "stdout"
        }
      ]
    },
    {
      "cell_type": "code",
      "metadata": {
        "id": "_ANjUUtWoD5g",
        "colab_type": "code",
        "outputId": "9b81b47d-d923-4174-8167-ac271f2e933f",
        "colab": {
          "base_uri": "https://localhost:8080/",
          "height": 54
        }
      },
      "source": [
        "import pandas as pd\n",
        "import numpy as np\n",
        "import os\n",
        "import datetime\n",
        "\n",
        "import tensorflow as tf\n",
        "from tensorflow.keras.models import Sequential\n",
        "from tensorflow.keras.layers import Conv2D, MaxPool2D, Dense, Flatten, Dropout\n",
        "from tensorflow.keras.utils import to_categorical\n",
        "\n",
        "%load_ext tensorboard\n",
        "\n",
        "import matplotlib.pyplot as plt\n",
        "from skimage import color, exposure\n",
        "\n",
        "from sklearn.metrics import accuracy_score\n",
        "from hyperopt import hp, STATUS_OK, tpe, Trials, fmin"
      ],
      "execution_count": 18,
      "outputs": [
        {
          "output_type": "stream",
          "text": [
            "The tensorboard extension is already loaded. To reload it, use:\n",
            "  %reload_ext tensorboard\n"
          ],
          "name": "stdout"
        }
      ]
    },
    {
      "cell_type": "code",
      "metadata": {
        "id": "X_KBz01oqYmy",
        "colab_type": "code",
        "outputId": "05cfca2a-8c13-45cc-af01-251f7c614050",
        "colab": {
          "base_uri": "https://localhost:8080/",
          "height": 35
        }
      },
      "source": [
        "cd \"/content/drive/My Drive/Colab Notebooks/dw_matrix/matrix_three/dw_matrix_road_sign\""
      ],
      "execution_count": 3,
      "outputs": [
        {
          "output_type": "stream",
          "text": [
            "/content/drive/My Drive/Colab Notebooks/dw_matrix/matrix_three/dw_matrix_road_sign\n"
          ],
          "name": "stdout"
        }
      ]
    },
    {
      "cell_type": "code",
      "metadata": {
        "id": "42zFrb6Gqi-t",
        "colab_type": "code",
        "colab": {}
      },
      "source": [
        "train = pd.read_pickle(\"data/train.p\")\n",
        "test = pd.read_pickle(\"data/test.p\")\n",
        "\n",
        "X_train, y_train = train[\"features\"], train[\"labels\"]\n",
        "X_test, y_test = test[\"features\"], test[\"labels\"]"
      ],
      "execution_count": 0,
      "outputs": []
    },
    {
      "cell_type": "code",
      "metadata": {
        "id": "fffjcwilsE6d",
        "colab_type": "code",
        "colab": {}
      },
      "source": [
        "if y_train.ndim == 1: y_train = to_categorical(y_train)\n",
        "if y_test.ndim == 1: y_test = to_categorical(y_test)\n",
        "\n",
        "input_shape = X_train.shape[1:]\n",
        "num_classes = y_train.shape[1]"
      ],
      "execution_count": 0,
      "outputs": []
    },
    {
      "cell_type": "code",
      "metadata": {
        "id": "NQDak1fIDLrc",
        "colab_type": "code",
        "colab": {}
      },
      "source": [
        "def train_model(model, X_train, y_train, params_fit ={}):\n",
        "  model.compile(loss = \"categorical_crossentropy\", optimizer = \"Adam\", metrics = [\"accuracy\"])\n",
        "  \n",
        "  logdir = os.path.join(\"logs\", datetime.datetime.now().strftime(\"%Y%m%d-%H%M%S\"))\n",
        "  tensorboard_callback = tf.keras.callbacks.TensorBoard(logdir, histogram_freq = 1)\n",
        "\n",
        "  model.fit(\n",
        "      X_train, \n",
        "      y_train,\n",
        "      batch_size = params_fit.get(\"batch_size\", 128),\n",
        "      epochs = params_fit.get(\"epochs\", 5),\n",
        "      verbose = params_fit.get(\"verbose\", 1),\n",
        "      validation_data = params_fit.get(\"validation_data\", (X_train, y_train)),\n",
        "      callbacks = [tensorboard_callback]\n",
        "      )\n",
        "  \n",
        "  return model\n",
        "\n",
        "\n",
        "  \n",
        "def predict(model_trained, X_test, y_test, scoring = accuracy_score):\n",
        " \n",
        "  y_test_norm = np.argmax(y_test, axis = 1)\n",
        "\n",
        "  y_pred_prob = model_trained.predict(X_test)\n",
        "  y_pred = np.argmax(y_pred_prob, axis = 1)\n",
        "\n",
        "  return scoring(y_test_norm, y_pred)\n"
      ],
      "execution_count": 0,
      "outputs": []
    },
    {
      "cell_type": "code",
      "metadata": {
        "id": "Es0zm1wYEDJU",
        "colab_type": "code",
        "colab": {}
      },
      "source": [
        "def get_cnn_v5(input_shape, num_classes):\n",
        "  return Sequential([\n",
        "     Conv2D(filters = 32, kernel_size=(3, 3), activation= \"relu\", input_shape = input_shape),\n",
        "     Conv2D(filters = 32, kernel_size=(3, 3), activation= \"relu\", padding=\"same\"),\n",
        "     MaxPool2D(),\n",
        "     Dropout(0.3),\n",
        "\n",
        "     Conv2D(filters = 64, kernel_size=(3, 3), activation= \"relu\", padding=\"same\"),\n",
        "     Conv2D(filters = 64, kernel_size=(3, 3), activation= \"relu\"),\n",
        "     MaxPool2D(),\n",
        "     Dropout(0.3),\n",
        "\n",
        "     Conv2D(filters = 64, kernel_size=(3, 3), activation= \"relu\", padding=\"same\"),\n",
        "     Conv2D(filters = 64, kernel_size=(3, 3), activation= \"relu\"),\n",
        "     MaxPool2D(),\n",
        "     Dropout(0.3),\n",
        "\n",
        "     Flatten(),\n",
        "\n",
        "     Dense(1024, activation=\"relu\"),\n",
        "     Dropout(0.3),\n",
        "\n",
        "     Dense(1024, activation=\"relu\"),\n",
        "     Dropout(0.3),\n",
        "\n",
        "     Dense(num_classes, activation=\"softmax\")             \n",
        "                    \n",
        "])\n",
        "\n"
      ],
      "execution_count": 0,
      "outputs": []
    },
    {
      "cell_type": "code",
      "metadata": {
        "id": "DkXN7hmyw1jR",
        "colab_type": "code",
        "outputId": "04a663c5-9e18-4601-b967-e8ed997310f6",
        "colab": {
          "base_uri": "https://localhost:8080/",
          "height": 217
        }
      },
      "source": [
        "model = get_cnn_v5(input_shape, num_classes)\n",
        "\n",
        "model_trained = train_model(model, X_train, y_train)\n",
        "predict(model_trained, X_test, y_test)"
      ],
      "execution_count": 8,
      "outputs": [
        {
          "output_type": "stream",
          "text": [
            "Epoch 1/5\n",
            "272/272 [==============================] - 4s 14ms/step - loss: 2.6482 - accuracy: 0.2874 - val_loss: 1.1854 - val_accuracy: 0.6572\n",
            "Epoch 2/5\n",
            "272/272 [==============================] - 4s 13ms/step - loss: 1.0088 - accuracy: 0.6786 - val_loss: 0.3322 - val_accuracy: 0.8894\n",
            "Epoch 3/5\n",
            "272/272 [==============================] - 4s 13ms/step - loss: 0.5620 - accuracy: 0.8215 - val_loss: 0.1724 - val_accuracy: 0.9437\n",
            "Epoch 4/5\n",
            "272/272 [==============================] - 4s 13ms/step - loss: 0.3864 - accuracy: 0.8782 - val_loss: 0.1073 - val_accuracy: 0.9705\n",
            "Epoch 5/5\n",
            "272/272 [==============================] - 4s 13ms/step - loss: 0.2754 - accuracy: 0.9123 - val_loss: 0.0798 - val_accuracy: 0.9748\n"
          ],
          "name": "stdout"
        },
        {
          "output_type": "execute_result",
          "data": {
            "text/plain": [
              "0.9541950113378684"
            ]
          },
          "metadata": {
            "tags": []
          },
          "execution_count": 8
        }
      ]
    },
    {
      "cell_type": "code",
      "metadata": {
        "id": "_jMSr7efHPzd",
        "colab_type": "code",
        "colab": {
          "base_uri": "https://localhost:8080/",
          "height": 54
        },
        "outputId": "43d6b163-eb7c-47f2-b2a3-74282c7781d6"
      },
      "source": [
        "model_trained.evaluate(X_test, y_test)[1]"
      ],
      "execution_count": 13,
      "outputs": [
        {
          "output_type": "stream",
          "text": [
            "138/138 [==============================] - 0s 2ms/step - loss: 0.2391 - accuracy: 0.9542\n"
          ],
          "name": "stdout"
        },
        {
          "output_type": "execute_result",
          "data": {
            "text/plain": [
              "0.9541950225830078"
            ]
          },
          "metadata": {
            "tags": []
          },
          "execution_count": 13
        }
      ]
    },
    {
      "cell_type": "code",
      "metadata": {
        "id": "_wGIemtcLjWx",
        "colab_type": "code",
        "colab": {}
      },
      "source": [
        "def get_model(params):\n",
        "  return Sequential([\n",
        "     Conv2D(filters = 32, kernel_size=(3, 3), activation= \"relu\", input_shape = input_shape),\n",
        "     Conv2D(filters = 32, kernel_size=(3, 3), activation= \"relu\", padding=\"same\"),\n",
        "     MaxPool2D(),\n",
        "     Dropout(params[\"dropout_cnn_block_one\"]),\n",
        "\n",
        "     Conv2D(filters = 64, kernel_size=(3, 3), activation= \"relu\", padding=\"same\"),\n",
        "     Conv2D(filters = 64, kernel_size=(3, 3), activation= \"relu\"),\n",
        "     MaxPool2D(),\n",
        "     Dropout(params[\"dropout_cnn_block_two\"]),\n",
        "\n",
        "     Conv2D(filters = 128, kernel_size=(3, 3), activation= \"relu\", padding=\"same\"),\n",
        "     Conv2D(filters = 128, kernel_size=(3, 3), activation= \"relu\"),\n",
        "     MaxPool2D(),\n",
        "     Dropout(params[\"dropout_cnn_block_three\"]),\n",
        "\n",
        "     Flatten(),\n",
        "\n",
        "     Dense(1024, activation=\"relu\"),\n",
        "     Dropout(params[\"dropout_dense_block_one\"]),\n",
        "\n",
        "     Dense(1024, activation=\"relu\"),\n",
        "     Dropout(params[\"dropout_dense_block_two\"]),\n",
        "\n",
        "     Dense(num_classes, activation=\"softmax\")             \n",
        "                    \n",
        "])\n"
      ],
      "execution_count": 0,
      "outputs": []
    },
    {
      "cell_type": "code",
      "metadata": {
        "id": "B-CR5Z0cFNEh",
        "colab_type": "code",
        "colab": {}
      },
      "source": [
        "def func_obj(params):\n",
        "  model = get_model(params)\n",
        "  model.compile(loss = \"categorical_crossentropy\", optimizer = \"Adam\", metrics = [\"accuracy\"])\n",
        "  \n",
        "  \n",
        "\n",
        "  model.fit(\n",
        "      X_train, \n",
        "      y_train,\n",
        "      batch_size = int(params.get(\"batch_size\", 128)),\n",
        "      epochs = 5,\n",
        "      verbose = 0\n",
        "     \n",
        "      )\n",
        "  \n",
        "  score = model.evaluate(X_test, y_test, verbose = 0)\n",
        "  accuracy = score[1]\n",
        "  print(params, \"accuracy = {}\".format(accuracy))\n",
        "  return {\"loss\": -accuracy, \"status\": STATUS_OK, \"model\": model}\n"
      ],
      "execution_count": 0,
      "outputs": []
    },
    {
      "cell_type": "code",
      "metadata": {
        "id": "IJg_QaNWon5V",
        "colab_type": "code",
        "outputId": "9691ba68-08a1-4807-c2aa-72d7f5695124",
        "colab": {
          "base_uri": "https://localhost:8080/",
          "height": 1000
        }
      },
      "source": [
        "space = {\n",
        "    \"batch_size\": hp.quniform(\"batch_size\", 50, 200, 20),\n",
        "    \"dropout_cnn_block_one\": hp.uniform(\"dropout_cnn_block_one\", 0, 1),\n",
        "    \"dropout_cnn_block_two\": hp.uniform(\"dropout_cnn_block_two\", 0, 1),\n",
        "    \"dropout_cnn_block_three\": hp.uniform(\"dropout_cnn_block_three\", 0, 1),\n",
        "\n",
        "    \"dropout_dense_block_one\": hp.uniform(\"dropout_dense_block_one\", 0, 1),\n",
        "    \"dropout_dense_block_two\": hp.uniform(\"dropout_dense_block_two\", 0, 1)\n",
        "}\n",
        "\n",
        "best = fmin(\n",
        "    func_obj,\n",
        "    space,\n",
        "    tpe.suggest,\n",
        "    30,\n",
        "    Trials()\n",
        "\n",
        "\n",
        ")"
      ],
      "execution_count": 37,
      "outputs": [
        {
          "output_type": "stream",
          "text": [
            "{'batch_size': 100.0, 'dropout_cnn_block_one': 0.9646460903915869, 'dropout_cnn_block_three': 0.1281751043571836, 'dropout_cnn_block_two': 0.959043931455636, 'dropout_dense_block_one': 0.7716206071058772, 'dropout_dense_block_two': 0.06775365170966441}\n",
            "accuracy = 0.05646258592605591\n",
            "{'batch_size': 60.0, 'dropout_cnn_block_one': 0.40351362105354593, 'dropout_cnn_block_three': 0.5018685473281848, 'dropout_cnn_block_two': 0.6949363548341687, 'dropout_dense_block_one': 0.9250767308836667, 'dropout_dense_block_two': 0.70097962236714}\n",
            "accuracy = 0.28730159997940063\n",
            "{'batch_size': 160.0, 'dropout_cnn_block_one': 0.9689694841404829, 'dropout_cnn_block_three': 0.4419831104104135, 'dropout_cnn_block_two': 0.9426614434459798, 'dropout_dense_block_one': 0.32060687883604855, 'dropout_dense_block_two': 0.49560027426991693}\n",
            "accuracy = 0.048072561621665955\n",
            "{'batch_size': 180.0, 'dropout_cnn_block_one': 0.4381429207423976, 'dropout_cnn_block_three': 0.5137093560255959, 'dropout_cnn_block_two': 0.0028666839904343266, 'dropout_dense_block_one': 0.641828417788749, 'dropout_dense_block_two': 0.8874263707523594}\n",
            "accuracy = 0.5113378763198853\n",
            "{'batch_size': 160.0, 'dropout_cnn_block_one': 0.4895710298498651, 'dropout_cnn_block_three': 0.63578437318644, 'dropout_cnn_block_two': 0.6442236054476661, 'dropout_dense_block_one': 0.06267005187838093, 'dropout_dense_block_two': 0.8411680266370929}\n",
            "accuracy = 0.3065759539604187\n",
            "{'batch_size': 200.0, 'dropout_cnn_block_one': 0.3682660352825069, 'dropout_cnn_block_three': 0.3896168238193016, 'dropout_cnn_block_two': 0.8098034121601149, 'dropout_dense_block_one': 0.4014643998515717, 'dropout_dense_block_two': 0.07093543766298627}\n",
            "accuracy = 0.5349206328392029\n",
            "{'batch_size': 80.0, 'dropout_cnn_block_one': 0.45648103920518224, 'dropout_cnn_block_three': 0.6564594380801795, 'dropout_cnn_block_two': 0.5094627513330234, 'dropout_dense_block_one': 0.679963773464885, 'dropout_dense_block_two': 0.6193660766147987}\n",
            "accuracy = 0.4374149739742279\n",
            "{'batch_size': 100.0, 'dropout_cnn_block_one': 0.3457414660269673, 'dropout_cnn_block_three': 0.5683620851535659, 'dropout_cnn_block_two': 0.3129093011142916, 'dropout_dense_block_one': 0.08919911449940476, 'dropout_dense_block_two': 0.6622154228739553}\n",
            "accuracy = 0.9512471556663513\n",
            "{'batch_size': 140.0, 'dropout_cnn_block_one': 0.2499765863259209, 'dropout_cnn_block_three': 0.897180239696384, 'dropout_cnn_block_two': 0.15973586997056322, 'dropout_dense_block_one': 0.6973853118795678, 'dropout_dense_block_two': 0.8108626945096231}\n",
            "accuracy = 0.2839002311229706\n",
            "{'batch_size': 200.0, 'dropout_cnn_block_one': 0.2750977078125133, 'dropout_cnn_block_three': 0.6970342613833296, 'dropout_cnn_block_two': 0.27732923401993603, 'dropout_dense_block_one': 0.8232897203918962, 'dropout_dense_block_two': 0.9142241716811311}\n",
            "accuracy = 0.2766439914703369\n",
            "{'batch_size': 140.0, 'dropout_cnn_block_one': 0.5565673034258353, 'dropout_cnn_block_three': 0.7935048190234912, 'dropout_cnn_block_two': 0.5460220108750281, 'dropout_dense_block_one': 0.38044391500613395, 'dropout_dense_block_two': 0.13195310369475532}\n",
            "accuracy = 0.3489795923233032\n",
            "{'batch_size': 100.0, 'dropout_cnn_block_one': 0.5900748791830775, 'dropout_cnn_block_three': 0.023686623022567743, 'dropout_cnn_block_two': 0.9658840253668715, 'dropout_dense_block_one': 0.7489875870531042, 'dropout_dense_block_two': 0.5345266908308904}\n",
            "accuracy = 0.0902494341135025\n",
            "{'batch_size': 100.0, 'dropout_cnn_block_one': 0.6051339922616034, 'dropout_cnn_block_three': 0.10024535104783583, 'dropout_cnn_block_two': 0.659378305124042, 'dropout_dense_block_one': 0.8686496418040982, 'dropout_dense_block_two': 0.1592317357872035}\n",
            "accuracy = 0.39931973814964294\n",
            "{'batch_size': 200.0, 'dropout_cnn_block_one': 0.29619921736056654, 'dropout_cnn_block_three': 0.9763644921367147, 'dropout_cnn_block_two': 0.3303362075083567, 'dropout_dense_block_one': 0.9674303189367244, 'dropout_dense_block_two': 0.18385948427115018}\n",
            "accuracy = 0.054421767592430115\n",
            "{'batch_size': 80.0, 'dropout_cnn_block_one': 0.5975810959731123, 'dropout_cnn_block_three': 0.5119209407935021, 'dropout_cnn_block_two': 0.21600082432562895, 'dropout_dense_block_one': 0.1341194989884641, 'dropout_dense_block_two': 0.15306094965958605}\n",
            "accuracy = 0.9532879590988159\n",
            "{'batch_size': 160.0, 'dropout_cnn_block_one': 0.5409656729387081, 'dropout_cnn_block_three': 0.8732870800348594, 'dropout_cnn_block_two': 0.1541513625435399, 'dropout_dense_block_one': 0.8405028007154604, 'dropout_dense_block_two': 0.3172372310416416}\n",
            "accuracy = 0.31111112236976624\n",
            "{'batch_size': 60.0, 'dropout_cnn_block_one': 0.5429817829537954, 'dropout_cnn_block_three': 0.08666790843001893, 'dropout_cnn_block_two': 0.7707102527321225, 'dropout_dense_block_one': 0.23895088189313562, 'dropout_dense_block_two': 0.752072022808033}\n",
            "accuracy = 0.7233560085296631\n",
            "{'batch_size': 120.0, 'dropout_cnn_block_one': 0.720194017294672, 'dropout_cnn_block_three': 0.17811165365891024, 'dropout_cnn_block_two': 0.9555258564742721, 'dropout_dense_block_one': 0.9687811997613545, 'dropout_dense_block_two': 0.14868253059937964}\n",
            "accuracy = 0.06009070202708244\n",
            "{'batch_size': 120.0, 'dropout_cnn_block_one': 0.9908541774190189, 'dropout_cnn_block_three': 0.7225825092239018, 'dropout_cnn_block_two': 0.8613078897575336, 'dropout_dense_block_one': 0.24158788431152056, 'dropout_dense_block_two': 0.06016733145177544}\n",
            "accuracy = 0.054421767592430115\n",
            "{'batch_size': 120.0, 'dropout_cnn_block_one': 0.3990336350996463, 'dropout_cnn_block_three': 0.1512337505522321, 'dropout_cnn_block_two': 0.9104302878423834, 'dropout_dense_block_one': 0.5600983423595259, 'dropout_dense_block_two': 0.05440901438830792}\n",
            "accuracy = 0.3730158805847168\n",
            "{'batch_size': 80.0, 'dropout_cnn_block_one': 0.04566152649500371, 'dropout_cnn_block_three': 0.3399522151374689, 'dropout_cnn_block_two': 0.35092409162878613, 'dropout_dense_block_one': 0.011102508683015655, 'dropout_dense_block_two': 0.35372827154621445}\n",
            "accuracy = 0.9750567078590393\n",
            "{'batch_size': 80.0, 'dropout_cnn_block_one': 0.03039146658676701, 'dropout_cnn_block_three': 0.2984630129792297, 'dropout_cnn_block_two': 0.4044213582711219, 'dropout_dense_block_one': 0.0024139825621654638, 'dropout_dense_block_two': 0.3347375015604246}\n",
            "accuracy = 0.9730158448219299\n",
            "{'batch_size': 80.0, 'dropout_cnn_block_one': 0.017213500115444657, 'dropout_cnn_block_three': 0.28526755287916106, 'dropout_cnn_block_two': 0.4149794472461869, 'dropout_dense_block_one': 0.014599789395716876, 'dropout_dense_block_two': 0.32355256514003744}\n",
            "accuracy = 0.9684807062149048\n",
            "{'batch_size': 60.0, 'dropout_cnn_block_one': 0.01218436727702589, 'dropout_cnn_block_three': 0.29296977985860423, 'dropout_cnn_block_two': 0.03260959496554999, 'dropout_dense_block_one': 0.1701809493277022, 'dropout_dense_block_two': 0.3479408499699519}\n",
            "accuracy = 0.9628117680549622\n",
            "{'batch_size': 80.0, 'dropout_cnn_block_one': 0.1104473439939404, 'dropout_cnn_block_three': 0.2781842932474972, 'dropout_cnn_block_two': 0.4204153570006835, 'dropout_dense_block_one': 0.007596557347025373, 'dropout_dense_block_two': 0.44654350502629475}\n",
            "accuracy = 0.9746031761169434\n",
            "{'batch_size': 60.0, 'dropout_cnn_block_one': 0.1341751054470966, 'dropout_cnn_block_three': 0.3833975515600857, 'dropout_cnn_block_two': 0.4236249150474466, 'dropout_dense_block_one': 0.4652950732605838, 'dropout_dense_block_two': 0.42998441797740117}\n",
            "accuracy = 0.9548752903938293\n",
            "{'batch_size': 80.0, 'dropout_cnn_block_one': 0.1337179531330248, 'dropout_cnn_block_three': 0.21644870500834518, 'dropout_cnn_block_two': 0.1007088209274365, 'dropout_dense_block_one': 0.21480447753726176, 'dropout_dense_block_two': 0.24993460151606162}\n",
            "accuracy = 0.9698412418365479\n",
            "{'batch_size': 100.0, 'dropout_cnn_block_one': 0.15107461568985317, 'dropout_cnn_block_three': 0.3663208570427014, 'dropout_cnn_block_two': 0.5617996804447141, 'dropout_dense_block_one': 0.012108330578148255, 'dropout_dense_block_two': 0.46094906018417103}\n",
            "accuracy = 0.9562358260154724\n",
            "{'batch_size': 60.0, 'dropout_cnn_block_one': 0.864767172239105, 'dropout_cnn_block_three': 0.03717563750505881, 'dropout_cnn_block_two': 0.4595429168570471, 'dropout_dense_block_one': 0.3163718123257888, 'dropout_dense_block_two': 0.5712092839703339}\n",
            "accuracy = 0.36734694242477417\n",
            "{'batch_size': 100.0, 'dropout_cnn_block_one': 0.2054602019631987, 'dropout_cnn_block_three': 0.21067201086560716, 'dropout_cnn_block_two': 0.35749801685723265, 'dropout_dense_block_one': 0.10061588218154177, 'dropout_dense_block_two': 0.420733196879736}\n",
            "accuracy = 0.9625850319862366\n",
            "100%|██████████| 30/30 [06:04<00:00, 12.13s/it, best loss: -0.9750567078590393]\n"
          ],
          "name": "stdout"
        }
      ]
    }
  ]
}