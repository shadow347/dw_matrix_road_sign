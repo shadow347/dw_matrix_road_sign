{
  "nbformat": 4,
  "nbformat_minor": 0,
  "metadata": {
    "colab": {
      "name": "day_4.ipynb",
      "provenance": [],
      "collapsed_sections": [],
      "mount_file_id": "1jVTv73oymGC88SRBWNG1HquzqVDluPjL",
      "authorship_tag": "ABX9TyNiOrjy8oTgID1IIuEf5Ek0",
      "include_colab_link": true
    },
    "kernelspec": {
      "name": "python3",
      "display_name": "Python 3"
    },
    "accelerator": "GPU"
  },
  "cells": [
    {
      "cell_type": "markdown",
      "metadata": {
        "id": "view-in-github",
        "colab_type": "text"
      },
      "source": [
        "<a href=\"https://colab.research.google.com/github/shadow347/dw_matrix_road_sign/blob/master/day_4.ipynb\" target=\"_parent\"><img src=\"https://colab.research.google.com/assets/colab-badge.svg\" alt=\"Open In Colab\"/></a>"
      ]
    },
    {
      "cell_type": "code",
      "metadata": {
        "id": "_ANjUUtWoD5g",
        "colab_type": "code",
        "outputId": "a2751efd-6513-4ad1-f1a2-01404c280558",
        "colab": {
          "base_uri": "https://localhost:8080/",
          "height": 54
        }
      },
      "source": [
        "import pandas as pd\n",
        "import numpy as np\n",
        "import os\n",
        "import datetime\n",
        "\n",
        "import tensorflow as tf\n",
        "from tensorflow.keras.models import Sequential\n",
        "from tensorflow.keras.layers import Conv2D, MaxPool2D, Dense, Flatten, Dropout\n",
        "from tensorflow.keras.utils import to_categorical\n",
        "\n",
        "%load_ext tensorboard\n",
        "\n",
        "import matplotlib.pyplot as plt\n",
        "from skimage import color, exposure\n",
        "\n",
        "from sklearn.metrics import accuracy_score"
      ],
      "execution_count": 28,
      "outputs": [
        {
          "output_type": "stream",
          "text": [
            "The tensorboard extension is already loaded. To reload it, use:\n",
            "  %reload_ext tensorboard\n"
          ],
          "name": "stdout"
        }
      ]
    },
    {
      "cell_type": "code",
      "metadata": {
        "id": "X_KBz01oqYmy",
        "colab_type": "code",
        "outputId": "56e8d5d7-4715-47f8-c836-e90e0ef3d46a",
        "colab": {
          "base_uri": "https://localhost:8080/",
          "height": 35
        }
      },
      "source": [
        "cd \"/content/drive/My Drive/Colab Notebooks/dw_matrix/matrix_three/dw_matrix_road_sign\""
      ],
      "execution_count": 2,
      "outputs": [
        {
          "output_type": "stream",
          "text": [
            "/content/drive/My Drive/Colab Notebooks/dw_matrix/matrix_three/dw_matrix_road_sign\n"
          ],
          "name": "stdout"
        }
      ]
    },
    {
      "cell_type": "code",
      "metadata": {
        "id": "42zFrb6Gqi-t",
        "colab_type": "code",
        "colab": {}
      },
      "source": [
        "train = pd.read_pickle(\"data/train.p\")\n",
        "test = pd.read_pickle(\"data/test.p\")\n",
        "\n",
        "X_train, y_train = train[\"features\"], train[\"labels\"]\n",
        "X_test, y_test = test[\"features\"], test[\"labels\"]"
      ],
      "execution_count": 0,
      "outputs": []
    },
    {
      "cell_type": "code",
      "metadata": {
        "id": "uBGSyVS7raPC",
        "colab_type": "code",
        "outputId": "c62950e8-9056-4cf9-a673-2f34a8619d15",
        "colab": {
          "base_uri": "https://localhost:8080/",
          "height": 35
        }
      },
      "source": [
        "y_train"
      ],
      "execution_count": 4,
      "outputs": [
        {
          "output_type": "execute_result",
          "data": {
            "text/plain": [
              "array([41, 41, 41, ..., 25, 25, 25], dtype=uint8)"
            ]
          },
          "metadata": {
            "tags": []
          },
          "execution_count": 4
        }
      ]
    },
    {
      "cell_type": "code",
      "metadata": {
        "id": "Ro-ng1pSriSD",
        "colab_type": "code",
        "outputId": "722553ca-4136-4a91-eaaf-44fc3bec1097",
        "colab": {
          "base_uri": "https://localhost:8080/",
          "height": 35
        }
      },
      "source": [
        "len(np.unique(y_train))"
      ],
      "execution_count": 5,
      "outputs": [
        {
          "output_type": "execute_result",
          "data": {
            "text/plain": [
              "43"
            ]
          },
          "metadata": {
            "tags": []
          },
          "execution_count": 5
        }
      ]
    },
    {
      "cell_type": "code",
      "metadata": {
        "id": "JMFJ_x9QrtCg",
        "colab_type": "code",
        "outputId": "4fa1b4f2-1dd4-4f52-ce2c-9447a38da9a1",
        "colab": {
          "base_uri": "https://localhost:8080/",
          "height": 72
        }
      },
      "source": [
        "to_categorical(y_train)[0]"
      ],
      "execution_count": 6,
      "outputs": [
        {
          "output_type": "execute_result",
          "data": {
            "text/plain": [
              "array([0., 0., 0., 0., 0., 0., 0., 0., 0., 0., 0., 0., 0., 0., 0., 0., 0.,\n",
              "       0., 0., 0., 0., 0., 0., 0., 0., 0., 0., 0., 0., 0., 0., 0., 0., 0.,\n",
              "       0., 0., 0., 0., 0., 0., 0., 1., 0.], dtype=float32)"
            ]
          },
          "metadata": {
            "tags": []
          },
          "execution_count": 6
        }
      ]
    },
    {
      "cell_type": "code",
      "metadata": {
        "id": "fffjcwilsE6d",
        "colab_type": "code",
        "colab": {}
      },
      "source": [
        "if y_train.ndim == 1: y_train = to_categorical(y_train)\n",
        "if y_test.ndim == 1: y_test = to_categorical(y_test)"
      ],
      "execution_count": 0,
      "outputs": []
    },
    {
      "cell_type": "code",
      "metadata": {
        "id": "toq9DzPTsq3Y",
        "colab_type": "code",
        "outputId": "24dabc3e-badd-4aa6-9930-daf5e8ae108e",
        "colab": {
          "base_uri": "https://localhost:8080/",
          "height": 35
        }
      },
      "source": [
        "y_train.shape"
      ],
      "execution_count": 8,
      "outputs": [
        {
          "output_type": "execute_result",
          "data": {
            "text/plain": [
              "(34799, 43)"
            ]
          },
          "metadata": {
            "tags": []
          },
          "execution_count": 8
        }
      ]
    },
    {
      "cell_type": "code",
      "metadata": {
        "id": "t4UmVqUPtQ0x",
        "colab_type": "code",
        "outputId": "ec49bd88-6a48-473b-aff1-5554ed1a8544",
        "colab": {
          "base_uri": "https://localhost:8080/",
          "height": 35
        }
      },
      "source": [
        "input_shape = X_train.shape[1:]\n",
        "num_classes = y_train.shape[1]\n",
        "\n",
        "input_shape\n"
      ],
      "execution_count": 9,
      "outputs": [
        {
          "output_type": "execute_result",
          "data": {
            "text/plain": [
              "(32, 32, 3)"
            ]
          },
          "metadata": {
            "tags": []
          },
          "execution_count": 9
        }
      ]
    },
    {
      "cell_type": "code",
      "metadata": {
        "id": "O4lB40RqsvBo",
        "colab_type": "code",
        "outputId": "ff3d7541-7b65-4984-e37a-984b8f4ce9ff",
        "colab": {
          "base_uri": "https://localhost:8080/",
          "height": 54
        }
      },
      "source": [
        "model = Sequential([\n",
        "     Conv2D(filters = 64, kernel_size=(3, 3), activation= \"relu\", input_shape = input_shape),\n",
        "     Flatten(),\n",
        "     Dense(num_classes, activation=\"softmax\")             \n",
        "                    \n",
        "])\n",
        "\n",
        "#model.summary()\n",
        "\n",
        "model.compile(loss = \"categorical_crossentropy\", optimizer = \"Adam\", metrics = [\"accuracy\"])\n",
        "model.fit(X_train, y_train)"
      ],
      "execution_count": 10,
      "outputs": [
        {
          "output_type": "stream",
          "text": [
            "1088/1088 [==============================] - 5s 5ms/step - loss: 12.7761 - accuracy: 0.7634\n"
          ],
          "name": "stdout"
        },
        {
          "output_type": "execute_result",
          "data": {
            "text/plain": [
              "<tensorflow.python.keras.callbacks.History at 0x7f6ad00de080>"
            ]
          },
          "metadata": {
            "tags": []
          },
          "execution_count": 10
        }
      ]
    },
    {
      "cell_type": "code",
      "metadata": {
        "id": "0cwHMeQEuJ4m",
        "colab_type": "code",
        "colab": {}
      },
      "source": [
        "def get_cnn_v1(input_shape, num_classes):\n",
        "  return Sequential([\n",
        "     Conv2D(filters = 64, kernel_size=(3, 3), activation= \"relu\", input_shape = input_shape),\n",
        "     Flatten(),\n",
        "     Dense(num_classes, activation=\"softmax\")             \n",
        "                    \n",
        "])\n",
        "  \n",
        "def train_model(model, X_train, y_train, params_fit ={}):\n",
        "  model.compile(loss = \"categorical_crossentropy\", optimizer = \"Adam\", metrics = [\"accuracy\"])\n",
        "  \n",
        "  logdir = os.path.join(\"logs\", datetime.datetime.now().strftime(\"%Y%m%d-%H%M%S\"))\n",
        "  tensorboard_callback = tf.keras.callbacks.TensorBoard(logdir, histogram_freq = 1)\n",
        "\n",
        "  model.fit(\n",
        "      X_train, \n",
        "      y_train,\n",
        "      batch_size = params_fit.get(\"batch_size\", 128),\n",
        "      epochs = params_fit.get(\"epochs\", 5),\n",
        "      verbose = params_fit.get(\"verbose\", 1),\n",
        "      validation_data = params_fit.get(\"validation_data\", (X_train, y_train)),\n",
        "      callbacks = [tensorboard_callback]\n",
        "      )\n",
        "  \n",
        "  return model"
      ],
      "execution_count": 0,
      "outputs": []
    },
    {
      "cell_type": "code",
      "metadata": {
        "id": "DkXN7hmyw1jR",
        "colab_type": "code",
        "outputId": "f26a8b47-4bb2-42ca-d296-b54fb2240113",
        "colab": {
          "base_uri": "https://localhost:8080/",
          "height": 199
        }
      },
      "source": [
        "model = get_cnn_v1(input_shape, num_classes)\n",
        "model_trained = train_model(model, X_train, y_train)"
      ],
      "execution_count": 12,
      "outputs": [
        {
          "output_type": "stream",
          "text": [
            "Epoch 1/5\n",
            "272/272 [==============================] - 5s 18ms/step - loss: 23.8023 - accuracy: 0.7322 - val_loss: 0.2489 - val_accuracy: 0.9390\n",
            "Epoch 2/5\n",
            "272/272 [==============================] - 5s 17ms/step - loss: 0.2257 - accuracy: 0.9444 - val_loss: 0.1239 - val_accuracy: 0.9683\n",
            "Epoch 3/5\n",
            "272/272 [==============================] - 5s 17ms/step - loss: 0.1336 - accuracy: 0.9676 - val_loss: 0.1063 - val_accuracy: 0.9697\n",
            "Epoch 4/5\n",
            "272/272 [==============================] - 5s 17ms/step - loss: 0.0982 - accuracy: 0.9760 - val_loss: 0.1521 - val_accuracy: 0.9683\n",
            "Epoch 5/5\n",
            "272/272 [==============================] - 5s 17ms/step - loss: 0.0948 - accuracy: 0.9769 - val_loss: 0.1547 - val_accuracy: 0.9653\n"
          ],
          "name": "stdout"
        }
      ]
    },
    {
      "cell_type": "code",
      "metadata": {
        "id": "KftuW4RZoUuH",
        "colab_type": "code",
        "colab": {
          "base_uri": "https://localhost:8080/",
          "height": 254
        },
        "outputId": "154dc341-a864-4ca4-a600-67de481ec3cf"
      },
      "source": [
        "y_pred_prob = model_trained.predict(X_test)\n",
        "y_pred_prob"
      ],
      "execution_count": 13,
      "outputs": [
        {
          "output_type": "execute_result",
          "data": {
            "text/plain": [
              "array([[4.23359348e-10, 1.21619226e-03, 5.02978384e-01, ...,\n",
              "        1.34676474e-03, 5.30402019e-07, 1.96939163e-06],\n",
              "       [3.30927750e-11, 2.88815092e-04, 6.01900220e-01, ...,\n",
              "        1.17198071e-02, 8.66182015e-10, 3.01200580e-05],\n",
              "       [1.19688107e-10, 2.41471501e-03, 4.89887893e-01, ...,\n",
              "        3.18739307e-03, 5.08621406e-06, 2.65477811e-05],\n",
              "       ...,\n",
              "       [1.87949059e-04, 1.54706528e-02, 2.14713765e-03, ...,\n",
              "        6.71049638e-05, 2.05414239e-04, 2.66433373e-04],\n",
              "       [2.37837015e-03, 9.38547179e-02, 2.33598761e-02, ...,\n",
              "        1.23226587e-02, 4.48009092e-03, 3.86549323e-03],\n",
              "       [1.91412706e-04, 1.29844975e-02, 2.95888865e-03, ...,\n",
              "        2.04237716e-04, 5.47298368e-05, 5.55825900e-05]], dtype=float32)"
            ]
          },
          "metadata": {
            "tags": []
          },
          "execution_count": 13
        }
      ]
    },
    {
      "cell_type": "code",
      "metadata": {
        "id": "IJg_QaNWon5V",
        "colab_type": "code",
        "colab": {
          "base_uri": "https://localhost:8080/",
          "height": 217
        },
        "outputId": "60bc4dfe-fc2c-4450-e450-c4e63d8a7ff4"
      },
      "source": [
        "y_pred_prob[400]"
      ],
      "execution_count": 19,
      "outputs": [
        {
          "output_type": "execute_result",
          "data": {
            "text/plain": [
              "array([1.1491634e-01, 2.4161689e-01, 5.5973981e-02, 2.4274535e-10,\n",
              "       5.8749276e-01, 3.5943007e-08, 1.2264528e-18, 3.0603006e-10,\n",
              "       2.8057058e-20, 1.7292064e-18, 1.4022553e-13, 1.8311727e-16,\n",
              "       2.9393354e-19, 1.8401552e-25, 1.5465506e-15, 2.6223346e-30,\n",
              "       1.3436778e-21, 1.0794592e-17, 2.4961698e-20, 8.8724517e-25,\n",
              "       2.4508185e-24, 2.7374558e-17, 3.4853704e-27, 7.8383999e-17,\n",
              "       4.5043825e-21, 1.0570190e-17, 4.8928462e-14, 1.8140297e-21,\n",
              "       3.6970086e-17, 8.3852905e-16, 5.6720168e-24, 1.0240866e-19,\n",
              "       1.0889218e-25, 1.9933278e-26, 1.1106996e-25, 4.0775205e-25,\n",
              "       5.3901737e-37, 2.1702674e-26, 7.7328579e-22, 8.4316735e-23,\n",
              "       1.1245047e-24, 1.5873231e-26, 1.1062605e-16], dtype=float32)"
            ]
          },
          "metadata": {
            "tags": []
          },
          "execution_count": 19
        }
      ]
    },
    {
      "cell_type": "code",
      "metadata": {
        "id": "SKs20gfTpUlc",
        "colab_type": "code",
        "colab": {}
      },
      "source": [
        "df = pd.read_csv(\"data/signnames.csv\")\n",
        "labels_dict = df.to_dict()[\"b\"]"
      ],
      "execution_count": 0,
      "outputs": []
    },
    {
      "cell_type": "code",
      "metadata": {
        "id": "-81pSgLOpxsz",
        "colab_type": "code",
        "colab": {
          "base_uri": "https://localhost:8080/",
          "height": 35
        },
        "outputId": "f64bd68e-ca50-44b9-ce0d-e4253b36e5e5"
      },
      "source": [
        "np.argmax(y_pred_prob[400])"
      ],
      "execution_count": 22,
      "outputs": [
        {
          "output_type": "execute_result",
          "data": {
            "text/plain": [
              "4"
            ]
          },
          "metadata": {
            "tags": []
          },
          "execution_count": 22
        }
      ]
    },
    {
      "cell_type": "code",
      "metadata": {
        "id": "iG7zRJkiqzW2",
        "colab_type": "code",
        "colab": {
          "base_uri": "https://localhost:8080/",
          "height": 283
        },
        "outputId": "633934ab-3efb-446c-fad2-6cf1d18bab33"
      },
      "source": [
        "plt.bar(range(43), y_pred_prob[400])"
      ],
      "execution_count": 26,
      "outputs": [
        {
          "output_type": "execute_result",
          "data": {
            "text/plain": [
              "<BarContainer object of 43 artists>"
            ]
          },
          "metadata": {
            "tags": []
          },
          "execution_count": 26
        },
        {
          "output_type": "display_data",
          "data": {
            "image/png": "[encoded data removed]",
            "text/plain": [
              "<Figure size 432x288 with 1 Axes>"
            ]
          },
          "metadata": {
            "tags": []
          }
        }
      ]
    },
    {
      "cell_type": "code",
      "metadata": {
        "id": "WutTjYO_qOCY",
        "colab_type": "code",
        "colab": {
          "base_uri": "https://localhost:8080/",
          "height": 35
        },
        "outputId": "b684f1d2-1d6b-4793-9b41-f267df263d31"
      },
      "source": [
        "labels_dict[np.argmax(y_pred_prob[400])]"
      ],
      "execution_count": 24,
      "outputs": [
        {
          "output_type": "execute_result",
          "data": {
            "text/plain": [
              "'Speed limit (70km/h)'"
            ]
          },
          "metadata": {
            "tags": []
          },
          "execution_count": 24
        }
      ]
    },
    {
      "cell_type": "code",
      "metadata": {
        "id": "Gerej4JzrL2x",
        "colab_type": "code",
        "colab": {
          "base_uri": "https://localhost:8080/",
          "height": 35
        },
        "outputId": "123c4d10-fc51-4eb0-e1e6-23fd40e27832"
      },
      "source": [
        "labels_dict[1]"
      ],
      "execution_count": 27,
      "outputs": [
        {
          "output_type": "execute_result",
          "data": {
            "text/plain": [
              "'Speed limit (30km/h)'"
            ]
          },
          "metadata": {
            "tags": []
          },
          "execution_count": 27
        }
      ]
    },
    {
      "cell_type": "code",
      "metadata": {
        "id": "z1QlipFJosI2",
        "colab_type": "code",
        "colab": {
          "base_uri": "https://localhost:8080/",
          "height": 285
        },
        "outputId": "e2ee6e8a-ca52-4a5e-f1c3-b70f79fac21a"
      },
      "source": [
        "plt.imshow(X_test[400])"
      ],
      "execution_count": 18,
      "outputs": [
        {
          "output_type": "execute_result",
          "data": {
            "text/plain": [
              "<matplotlib.image.AxesImage at 0x7f6aac027208>"
            ]
          },
          "metadata": {
            "tags": []
          },
          "execution_count": 18
        },
        {
          "output_type": "display_data",
          "data": {
            "image/png": "[encoded data removed]",
            "text/plain": [
              "<Figure size 432x288 with 1 Axes>"
            ]
          },
          "metadata": {
            "tags": []
          }
        }
      ]
    },
    {
      "cell_type": "code",
      "metadata": {
        "id": "4WPQgKnLrmJV",
        "colab_type": "code",
        "colab": {}
      },
      "source": [
        "def predict(model_trained, X_test, y_test, scoring = accuracy_score):\n",
        " \n",
        "  y_test_norm = np.argmax(y_test, axis = 1)\n",
        "\n",
        "  y_pred_prob = model_trained.predict(X_test)\n",
        "  y_pred = np.argmax(y_pred_prob, axis = 1)\n",
        "\n",
        "  return scoring(y_test_norm, y_pred)\n"
      ],
      "execution_count": 0,
      "outputs": []
    },
    {
      "cell_type": "code",
      "metadata": {
        "id": "9NMaNlp7tcu7",
        "colab_type": "code",
        "colab": {
          "base_uri": "https://localhost:8080/",
          "height": 35
        },
        "outputId": "479de97c-cd49-459d-8210-b776d4f4bb4f"
      },
      "source": [
        "predict(model_trained, X_test, y_test)"
      ],
      "execution_count": 33,
      "outputs": [
        {
          "output_type": "execute_result",
          "data": {
            "text/plain": [
              "0.8258503401360544"
            ]
          },
          "metadata": {
            "tags": []
          },
          "execution_count": 33
        }
      ]
    },
    {
      "cell_type": "code",
      "metadata": {
        "id": "H33HiFITuea2",
        "colab_type": "code",
        "colab": {
          "base_uri": "https://localhost:8080/",
          "height": 217
        },
        "outputId": "151baa19-3a27-4179-c148-64df9a4ee503"
      },
      "source": [
        "def get_cnn_v2(input_shape, num_classes):\n",
        "  return Sequential([\n",
        "     Conv2D(filters = 32, kernel_size=(3, 3), activation= \"relu\", input_shape = input_shape),\n",
        "     MaxPool2D(),\n",
        "     Dropout(0.3),\n",
        "\n",
        "     Conv2D(filters = 64, kernel_size=(3, 3), activation= \"relu\"),\n",
        "     MaxPool2D(),\n",
        "     Dropout(0.3),\n",
        "\n",
        "     Flatten(),\n",
        "\n",
        "     Dense(1024, activation=\"relu\"),\n",
        "     Dropout(0.3),\n",
        "\n",
        "     Dense(num_classes, activation=\"softmax\")             \n",
        "                    \n",
        "])\n",
        "def train_and_predict(model): \n",
        "  model_trained = train_model(model, X_train, y_train)\n",
        "  return predict(model_trained, X_test, y_test)\n",
        "\n",
        "train_and_predict(get_cnn_v2(input_shape, num_classes))  "
      ],
      "execution_count": 36,
      "outputs": [
        {
          "output_type": "stream",
          "text": [
            "Epoch 1/5\n",
            "272/272 [==============================] - 4s 14ms/step - loss: 3.7894 - accuracy: 0.4675 - val_loss: 0.5699 - val_accuracy: 0.8726\n",
            "Epoch 2/5\n",
            "272/272 [==============================] - 4s 13ms/step - loss: 0.6815 - accuracy: 0.8045 - val_loss: 0.2061 - val_accuracy: 0.9586\n",
            "Epoch 3/5\n",
            "272/272 [==============================] - 4s 13ms/step - loss: 0.3948 - accuracy: 0.8840 - val_loss: 0.1038 - val_accuracy: 0.9810\n",
            "Epoch 4/5\n",
            "272/272 [==============================] - 4s 13ms/step - loss: 0.2927 - accuracy: 0.9136 - val_loss: 0.0671 - val_accuracy: 0.9862\n",
            "Epoch 5/5\n",
            "272/272 [==============================] - 4s 14ms/step - loss: 0.2206 - accuracy: 0.9335 - val_loss: 0.0558 - val_accuracy: 0.9889\n"
          ],
          "name": "stdout"
        },
        {
          "output_type": "execute_result",
          "data": {
            "text/plain": [
              "0.9356009070294785"
            ]
          },
          "metadata": {
            "tags": []
          },
          "execution_count": 36
        }
      ]
    },
    {
      "cell_type": "code",
      "metadata": {
        "id": "XM0XidS2xXZK",
        "colab_type": "code",
        "colab": {
          "base_uri": "https://localhost:8080/",
          "height": 217
        },
        "outputId": "4600e0da-188c-4523-d5f7-9888588d29c8"
      },
      "source": [
        "def get_cnn_v3(input_shape, num_classes):\n",
        "  return Sequential([\n",
        "     Conv2D(filters = 32, kernel_size=(3, 3), activation= \"relu\", input_shape = input_shape),\n",
        "     Conv2D(filters = 32, kernel_size=(3, 3), activation= \"relu\"),\n",
        "     MaxPool2D(),\n",
        "     Dropout(0.3),\n",
        "\n",
        "     Conv2D(filters = 64, kernel_size=(3, 3), activation= \"relu\"),\n",
        "     Conv2D(filters = 64, kernel_size=(3, 3), activation= \"relu\"),\n",
        "     MaxPool2D(),\n",
        "     Dropout(0.3),\n",
        "\n",
        "     \n",
        "\n",
        "     Flatten(),\n",
        "\n",
        "     Dense(1024, activation=\"relu\"),\n",
        "     Dropout(0.3),\n",
        "\n",
        "     Dense(num_classes, activation=\"softmax\")             \n",
        "                    \n",
        "])\n",
        "\n",
        "\n",
        "train_and_predict(get_cnn_v3(input_shape, num_classes))  "
      ],
      "execution_count": 37,
      "outputs": [
        {
          "output_type": "stream",
          "text": [
            "Epoch 1/5\n",
            "272/272 [==============================] - 5s 20ms/step - loss: 1.7577 - accuracy: 0.5942 - val_loss: 0.2092 - val_accuracy: 0.9532\n",
            "Epoch 2/5\n",
            "272/272 [==============================] - 5s 19ms/step - loss: 0.3516 - accuracy: 0.8990 - val_loss: 0.0980 - val_accuracy: 0.9807\n",
            "Epoch 3/5\n",
            "272/272 [==============================] - 5s 18ms/step - loss: 0.2007 - accuracy: 0.9427 - val_loss: 0.0308 - val_accuracy: 0.9928\n",
            "Epoch 4/5\n",
            "272/272 [==============================] - 5s 19ms/step - loss: 0.1389 - accuracy: 0.9604 - val_loss: 0.0172 - val_accuracy: 0.9958\n",
            "Epoch 5/5\n",
            "272/272 [==============================] - 5s 19ms/step - loss: 0.1037 - accuracy: 0.9695 - val_loss: 0.0145 - val_accuracy: 0.9967\n"
          ],
          "name": "stdout"
        },
        {
          "output_type": "execute_result",
          "data": {
            "text/plain": [
              "0.9664399092970521"
            ]
          },
          "metadata": {
            "tags": []
          },
          "execution_count": 37
        }
      ]
    },
    {
      "cell_type": "code",
      "metadata": {
        "id": "3aAWxY-cx9Wb",
        "colab_type": "code",
        "colab": {
          "base_uri": "https://localhost:8080/",
          "height": 217
        },
        "outputId": "267661b4-89f1-4706-83f3-b183c530edff"
      },
      "source": [
        "def get_cnn_v5(input_shape, num_classes):\n",
        "  return Sequential([\n",
        "     Conv2D(filters = 32, kernel_size=(3, 3), activation= \"relu\", input_shape = input_shape),\n",
        "     Conv2D(filters = 32, kernel_size=(3, 3), activation= \"relu\", padding=\"same\"),\n",
        "     MaxPool2D(),\n",
        "     Dropout(0.3),\n",
        "\n",
        "     Conv2D(filters = 64, kernel_size=(3, 3), activation= \"relu\", padding=\"same\"),\n",
        "     Conv2D(filters = 64, kernel_size=(3, 3), activation= \"relu\"),\n",
        "     MaxPool2D(),\n",
        "     Dropout(0.3),\n",
        "\n",
        "     Conv2D(filters = 64, kernel_size=(3, 3), activation= \"relu\", padding=\"same\"),\n",
        "     Conv2D(filters = 64, kernel_size=(3, 3), activation= \"relu\"),\n",
        "     MaxPool2D(),\n",
        "     Dropout(0.3),\n",
        "\n",
        "     Flatten(),\n",
        "\n",
        "     Dense(1024, activation=\"relu\"),\n",
        "     Dropout(0.3),\n",
        "\n",
        "     Dense(1024, activation=\"relu\"),\n",
        "     Dropout(0.3),\n",
        "\n",
        "     Dense(num_classes, activation=\"softmax\")             \n",
        "                    \n",
        "])\n",
        "\n",
        "#get_cnn_v4(input_shape, num_classes).summary()\n",
        "train_and_predict(get_cnn_v5(input_shape, num_classes)) "
      ],
      "execution_count": 42,
      "outputs": [
        {
          "output_type": "stream",
          "text": [
            "Epoch 1/5\n",
            "272/272 [==============================] - 6s 23ms/step - loss: 2.7109 - accuracy: 0.2772 - val_loss: 0.9432 - val_accuracy: 0.7167\n",
            "Epoch 2/5\n",
            "272/272 [==============================] - 6s 23ms/step - loss: 0.8289 - accuracy: 0.7389 - val_loss: 0.1981 - val_accuracy: 0.9416\n",
            "Epoch 3/5\n",
            "272/272 [==============================] - 6s 23ms/step - loss: 0.3878 - accuracy: 0.8812 - val_loss: 0.1076 - val_accuracy: 0.9696\n",
            "Epoch 4/5\n",
            "272/272 [==============================] - 6s 22ms/step - loss: 0.2502 - accuracy: 0.9257 - val_loss: 0.0496 - val_accuracy: 0.9858\n",
            "Epoch 5/5\n",
            "272/272 [==============================] - 6s 22ms/step - loss: 0.1852 - accuracy: 0.9441 - val_loss: 0.0378 - val_accuracy: 0.9887\n"
          ],
          "name": "stdout"
        },
        {
          "output_type": "execute_result",
          "data": {
            "text/plain": [
              "0.9684807256235828"
            ]
          },
          "metadata": {
            "tags": []
          },
          "execution_count": 42
        }
      ]
    },
    {
      "cell_type": "code",
      "metadata": {
        "id": "iNZj47A10dKi",
        "colab_type": "code",
        "colab": {
          "base_uri": "https://localhost:8080/",
          "height": 35
        },
        "outputId": "f318eceb-3b76-4fd6-be06-074af88772a1"
      },
      "source": [
        "X_train[0].shape"
      ],
      "execution_count": 43,
      "outputs": [
        {
          "output_type": "execute_result",
          "data": {
            "text/plain": [
              "(32, 32, 3)"
            ]
          },
          "metadata": {
            "tags": []
          },
          "execution_count": 43
        }
      ]
    },
    {
      "cell_type": "code",
      "metadata": {
        "id": "0CdNXMd90k-l",
        "colab_type": "code",
        "colab": {
          "base_uri": "https://localhost:8080/",
          "height": 35
        },
        "outputId": "691b2216-2098-45fa-a561-ff6c36201136"
      },
      "source": [
        "color.rgb2gray(X_train[0]).shape"
      ],
      "execution_count": 44,
      "outputs": [
        {
          "output_type": "execute_result",
          "data": {
            "text/plain": [
              "(32, 32)"
            ]
          },
          "metadata": {
            "tags": []
          },
          "execution_count": 44
        }
      ]
    },
    {
      "cell_type": "code",
      "metadata": {
        "id": "ET0bdROj0wq3",
        "colab_type": "code",
        "colab": {
          "base_uri": "https://localhost:8080/",
          "height": 266
        },
        "outputId": "f4fc4f6a-f54e-4465-ee3e-3dba649e9f41"
      },
      "source": [
        "plt.imshow(color.rgb2gray(X_train[0]), cmap = plt.get_cmap(\"gray\"));"
      ],
      "execution_count": 48,
      "outputs": [
        {
          "output_type": "display_data",
          "data": {
            "image/png": "[encoded data removed]",
            "text/plain": [
              "<Figure size 432x288 with 1 Axes>"
            ]
          },
          "metadata": {
            "tags": []
          }
        }
      ]
    },
    {
      "cell_type": "code",
      "metadata": {
        "id": "4bEqIsP31RMr",
        "colab_type": "code",
        "colab": {}
      },
      "source": [
        "X_train_gray = color.rgb2gray(X_train).reshape(-1, 32, 32, 1)\n",
        "X_test_gray = color.rgb2gray(X_test).reshape(-1, 32, 32, 1)"
      ],
      "execution_count": 0,
      "outputs": []
    },
    {
      "cell_type": "code",
      "metadata": {
        "id": "nrsgT2_p1s2v",
        "colab_type": "code",
        "colab": {
          "base_uri": "https://localhost:8080/",
          "height": 217
        },
        "outputId": "009bccac-6490-442b-e978-0d89a5ae8dbb"
      },
      "source": [
        "model = get_cnn_v5((32, 32, 1), num_classes)\n",
        "\n",
        "model_trained = train_model(model, X_train_gray, y_train, params_fit ={})\n",
        "predict(model_trained, X_test_gray, y_test)"
      ],
      "execution_count": 57,
      "outputs": [
        {
          "output_type": "stream",
          "text": [
            "Epoch 1/5\n",
            "272/272 [==============================] - 6s 23ms/step - loss: 2.5467 - accuracy: 0.2820 - val_loss: 0.7853 - val_accuracy: 0.7579\n",
            "Epoch 2/5\n",
            "272/272 [==============================] - 6s 23ms/step - loss: 0.5757 - accuracy: 0.8155 - val_loss: 0.1467 - val_accuracy: 0.9536\n",
            "Epoch 3/5\n",
            "272/272 [==============================] - 6s 23ms/step - loss: 0.2548 - accuracy: 0.9183 - val_loss: 0.0723 - val_accuracy: 0.9798\n",
            "Epoch 4/5\n",
            "272/272 [==============================] - 6s 22ms/step - loss: 0.1677 - accuracy: 0.9482 - val_loss: 0.0320 - val_accuracy: 0.9908\n",
            "Epoch 5/5\n",
            "272/272 [==============================] - 6s 22ms/step - loss: 0.1179 - accuracy: 0.9631 - val_loss: 0.0253 - val_accuracy: 0.9929\n"
          ],
          "name": "stdout"
        },
        {
          "output_type": "execute_result",
          "data": {
            "text/plain": [
              "0.9680272108843537"
            ]
          },
          "metadata": {
            "tags": []
          },
          "execution_count": 57
        }
      ]
    },
    {
      "cell_type": "code",
      "metadata": {
        "id": "sYMvOCYy4Rv4",
        "colab_type": "code",
        "colab": {}
      },
      "source": [
        "def preproc_img(img):\n",
        "  hsv = color.rgb2hsv(img)\n",
        "  hsv[:,:,2] = exposure.equalize_adapthist(hsv[:,:,2])\n",
        "  img = color.hsv2rgb(hsv)\n",
        "\n",
        "  return img"
      ],
      "execution_count": 0,
      "outputs": []
    },
    {
      "cell_type": "code",
      "metadata": {
        "id": "BNAQ87-i5fTt",
        "colab_type": "code",
        "colab": {
          "base_uri": "https://localhost:8080/",
          "height": 266
        },
        "outputId": "0d440f05-c20e-41d0-ed75-d7a9dd210f4b"
      },
      "source": [
        "plt.imshow(X_train[400]);"
      ],
      "execution_count": 59,
      "outputs": [
        {
          "output_type": "display_data",
          "data": {
            "image/png": "[encoded data removed]",
            "text/plain": [
              "<Figure size 432x288 with 1 Axes>"
            ]
          },
          "metadata": {
            "tags": []
          }
        }
      ]
    },
    {
      "cell_type": "code",
      "metadata": {
        "id": "ctSURXlo5Ip0",
        "colab_type": "code",
        "colab": {
          "base_uri": "https://localhost:8080/",
          "height": 266
        },
        "outputId": "772bca69-3146-4da8-c701-1d58e415dfc7"
      },
      "source": [
        "plt.imshow(preproc_img(X_train[400]));"
      ],
      "execution_count": 62,
      "outputs": [
        {
          "output_type": "display_data",
          "data": {
            "image/png": "[encoded data removed]",
            "text/plain": [
              "<Figure size 432x288 with 1 Axes>"
            ]
          },
          "metadata": {
            "tags": []
          }
        }
      ]
    }
  ]
}